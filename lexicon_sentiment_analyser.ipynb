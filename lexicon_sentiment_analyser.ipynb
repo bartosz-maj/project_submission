{
 "cells": [
  {
   "cell_type": "code",
   "execution_count": 1,
   "id": "ca31e30f",
   "metadata": {},
   "outputs": [],
   "source": [
    "from nltk.sentiment.vader import SentimentIntensityAnalyzer\n",
    "import nltk\n",
    "import pandas as pd"
   ]
  },
  {
   "cell_type": "code",
   "execution_count": 2,
   "id": "a61a713a",
   "metadata": {},
   "outputs": [],
   "source": [
    "import nltk\n",
    "import string\n",
    "from nltk import word_tokenize\n",
    "from nltk.corpus import stopwords\n",
    "from nltk.stem import WordNetLemmatizer\n",
    "from nltk.tokenize import RegexpTokenizer\n",
    "from gensim.parsing.preprocessing import remove_stopwords\n",
    "from gensim.parsing.preprocessing import STOPWORDS\n",
    "import random\n",
    "import gensim\n",
    "from tqdm.auto import tqdm\n",
    "from datasets import load_dataset, Dataset\n",
    "from datetime import datetime"
   ]
  },
  {
   "cell_type": "code",
   "execution_count": 3,
   "id": "bc60729f",
   "metadata": {},
   "outputs": [
    {
     "name": "stderr",
     "output_type": "stream",
     "text": [
      "[nltk_data] Downloading package vader_lexicon to\n",
      "[nltk_data]     /home/ec22283/nltk_data...\n",
      "[nltk_data]   Package vader_lexicon is already up-to-date!\n",
      "[nltk_data] Downloading package stopwords to\n",
      "[nltk_data]     /home/ec22283/nltk_data...\n",
      "[nltk_data]   Package stopwords is already up-to-date!\n",
      "[nltk_data] Downloading package wordnet to /home/ec22283/nltk_data...\n",
      "[nltk_data]   Package wordnet is already up-to-date!\n",
      "[nltk_data] Downloading package averaged_perceptron_tagger to\n",
      "[nltk_data]     /home/ec22283/nltk_data...\n",
      "[nltk_data]   Package averaged_perceptron_tagger is already up-to-\n",
      "[nltk_data]       date!\n",
      "[nltk_data] Downloading package brown to /home/ec22283/nltk_data...\n",
      "[nltk_data]   Package brown is already up-to-date!\n",
      "[nltk_data] Downloading package punkt to /home/ec22283/nltk_data...\n",
      "[nltk_data]   Package punkt is already up-to-date!\n"
     ]
    },
    {
     "data": {
      "text/plain": [
       "True"
      ]
     },
     "execution_count": 3,
     "metadata": {},
     "output_type": "execute_result"
    }
   ],
   "source": [
    "nltk.download('vader_lexicon')\n",
    "nltk.download(\"stopwords\")\n",
    "nltk.download('wordnet')\n",
    "nltk.download('averaged_perceptron_tagger')\n",
    "nltk.download('brown')\n",
    "nltk.download('punkt')"
   ]
  },
  {
   "cell_type": "code",
   "execution_count": 4,
   "id": "868019c9",
   "metadata": {},
   "outputs": [],
   "source": [
    "sia = SentimentIntensityAnalyzer()"
   ]
  },
  {
   "cell_type": "code",
   "execution_count": 5,
   "id": "b9d399c4",
   "metadata": {},
   "outputs": [],
   "source": [
    "comments = pd.read_csv(\"comments.csv\")"
   ]
  },
  {
   "cell_type": "code",
   "execution_count": 6,
   "id": "633c5879",
   "metadata": {},
   "outputs": [],
   "source": [
    "comments.head()\n",
    "process = comments[\"body\"].to_list()"
   ]
  },
  {
   "cell_type": "code",
   "execution_count": 7,
   "id": "57be08db",
   "metadata": {},
   "outputs": [],
   "source": [
    "one = process[0:1000000]\n",
    "two = process[1000000:2000000]\n",
    "three = process[2000000:3000000]\n",
    "four = process[3000000:]"
   ]
  },
  {
   "cell_type": "code",
   "execution_count": 8,
   "id": "73885bbe",
   "metadata": {},
   "outputs": [
    {
     "data": {
      "text/plain": [
       "4600698"
      ]
     },
     "execution_count": 8,
     "metadata": {},
     "output_type": "execute_result"
    }
   ],
   "source": [
    "len(one) + len(two) + len(three) + len(four)"
   ]
  },
  {
   "cell_type": "code",
   "execution_count": 9,
   "id": "8fae3b48",
   "metadata": {},
   "outputs": [],
   "source": [
    "assert(one[-1] == process[999999])\n",
    "assert(two[-1] == process[1999999])\n",
    "assert(three[-1] == process[2999999])\n",
    "assert(four[-1] == process[-1])\n",
    "assert((len(one) + len(two) + len(three) + len(four)) == len(process))"
   ]
  },
  {
   "cell_type": "code",
   "execution_count": 10,
   "id": "c7b053de",
   "metadata": {},
   "outputs": [],
   "source": [
    "from datasets import load_dataset, Dataset"
   ]
  },
  {
   "cell_type": "code",
   "execution_count": 11,
   "id": "9a8d85a1",
   "metadata": {},
   "outputs": [
    {
     "data": {
      "application/vnd.jupyter.widget-view+json": {
       "model_id": "e6a4af40d19f492ebf7c4b82733c81e4",
       "version_major": 2,
       "version_minor": 0
      },
      "text/plain": [
       "  0%|          | 0/1000000 [00:00<?, ?it/s]"
      ]
     },
     "metadata": {},
     "output_type": "display_data"
    }
   ],
   "source": [
    "one_sentiment = [sia.polarity_scores(doc) for doc in tqdm(one)]\n",
    "#sent_one_df = Dataset.from_pandas(pd.DataFrame({\"sen\":one_sentiment}))\n",
    "#sent_one_df.push_to_hub(\"bartoszmaj/sentiment_one\")"
   ]
  },
  {
   "cell_type": "code",
   "execution_count": 12,
   "id": "c3e9d210",
   "metadata": {},
   "outputs": [
    {
     "data": {
      "application/vnd.jupyter.widget-view+json": {
       "model_id": "aab635b4a4024de1a76a565bfebc61ed",
       "version_major": 2,
       "version_minor": 0
      },
      "text/plain": [
       "  0%|          | 0/1000000 [00:00<?, ?it/s]"
      ]
     },
     "metadata": {},
     "output_type": "display_data"
    }
   ],
   "source": [
    "two_sentiment = [sia.polarity_scores(doc) for doc in tqdm(one)]\n",
    "#sent_two_df = Dataset.from_pandas(pd.DataFrame({\"sen\":two_sentiment}))\n",
    "#sent_two_df.push_to_hub(\"bartoszmaj/sentiment_two\")"
   ]
  },
  {
   "cell_type": "code",
   "execution_count": 13,
   "id": "02a7bde1",
   "metadata": {},
   "outputs": [
    {
     "data": {
      "application/vnd.jupyter.widget-view+json": {
       "model_id": "2fdc92fabb7b498083557f1587a6d6e0",
       "version_major": 2,
       "version_minor": 0
      },
      "text/plain": [
       "  0%|          | 0/1000000 [00:00<?, ?it/s]"
      ]
     },
     "metadata": {},
     "output_type": "display_data"
    }
   ],
   "source": [
    "three_sentiment = [sia.polarity_scores(doc) for doc in tqdm(three)]\n",
    "#sent_three_df = Dataset.from_pandas(pd.DataFrame({\"sen\":three_sentiment}))\n",
    "#sent_three_df.push_to_hub(\"bartoszmaj/sentiment_three\")"
   ]
  },
  {
   "cell_type": "code",
   "execution_count": 14,
   "id": "8f4be70a",
   "metadata": {},
   "outputs": [
    {
     "data": {
      "application/vnd.jupyter.widget-view+json": {
       "model_id": "d81d836ad06f4388919f7e2b2bc19381",
       "version_major": 2,
       "version_minor": 0
      },
      "text/plain": [
       "  0%|          | 0/1600698 [00:00<?, ?it/s]"
      ]
     },
     "metadata": {},
     "output_type": "display_data"
    }
   ],
   "source": [
    "four_sentiment = [sia.polarity_scores(doc) for doc in tqdm(four)]\n",
    "#sent_four_df = Dataset.from_pandas(pd.DataFrame({\"sen\":four_sentiment}))\n",
    "#sent_four_df.push_to_hub(\"bartoszmaj/sentiment_four\")"
   ]
  },
  {
   "cell_type": "code",
   "execution_count": 16,
   "id": "5318a5d7",
   "metadata": {},
   "outputs": [
    {
     "data": {
      "application/vnd.jupyter.widget-view+json": {
       "model_id": "3820f3ce14984922b855be1d20e7dcf6",
       "version_major": 2,
       "version_minor": 0
      },
      "text/plain": [
       "Downloading readme:   0%|          | 0.00/351 [00:00<?, ?B/s]"
      ]
     },
     "metadata": {},
     "output_type": "display_data"
    },
    {
     "name": "stdout",
     "output_type": "stream",
     "text": [
      "Downloading and preparing dataset None/None to /home/ec22283/.cache/huggingface/datasets/bartoszmaj___parquet/bartoszmaj--sentiment_one-c5ac7faca20d8797/0.0.0/14a00e99c0d15a23649d0db8944380ac81082d4b021f398733dd84f3a6c569a7...\n"
     ]
    },
    {
     "data": {
      "application/vnd.jupyter.widget-view+json": {
       "model_id": "c28b29d56b3a44ecb14e966b13d0b784",
       "version_major": 2,
       "version_minor": 0
      },
      "text/plain": [
       "Downloading data files:   0%|          | 0/1 [00:00<?, ?it/s]"
      ]
     },
     "metadata": {},
     "output_type": "display_data"
    },
    {
     "data": {
      "application/vnd.jupyter.widget-view+json": {
       "model_id": "f6faa39b01eb401fa9a438e3b3efe8fb",
       "version_major": 2,
       "version_minor": 0
      },
      "text/plain": [
       "Downloading data:   0%|          | 0.00/14.6M [00:00<?, ?B/s]"
      ]
     },
     "metadata": {},
     "output_type": "display_data"
    },
    {
     "data": {
      "application/vnd.jupyter.widget-view+json": {
       "model_id": "e58b3a21a70d4416a55d35dd1bf86ffd",
       "version_major": 2,
       "version_minor": 0
      },
      "text/plain": [
       "Extracting data files:   0%|          | 0/1 [00:00<?, ?it/s]"
      ]
     },
     "metadata": {},
     "output_type": "display_data"
    },
    {
     "data": {
      "application/vnd.jupyter.widget-view+json": {
       "model_id": "",
       "version_major": 2,
       "version_minor": 0
      },
      "text/plain": [
       "Generating train split:   0%|          | 0/1000000 [00:00<?, ? examples/s]"
      ]
     },
     "metadata": {},
     "output_type": "display_data"
    },
    {
     "name": "stdout",
     "output_type": "stream",
     "text": [
      "Dataset parquet downloaded and prepared to /home/ec22283/.cache/huggingface/datasets/bartoszmaj___parquet/bartoszmaj--sentiment_one-c5ac7faca20d8797/0.0.0/14a00e99c0d15a23649d0db8944380ac81082d4b021f398733dd84f3a6c569a7. Subsequent calls will reuse this data.\n"
     ]
    },
    {
     "data": {
      "application/vnd.jupyter.widget-view+json": {
       "model_id": "55e35cccb82a48efbf2668e90d55ad5f",
       "version_major": 2,
       "version_minor": 0
      },
      "text/plain": [
       "  0%|          | 0/1 [00:00<?, ?it/s]"
      ]
     },
     "metadata": {},
     "output_type": "display_data"
    }
   ],
   "source": [
    "one = load_dataset(\"bartoszmaj/sentiment_one\")"
   ]
  },
  {
   "cell_type": "code",
   "execution_count": 17,
   "id": "29614002",
   "metadata": {},
   "outputs": [
    {
     "name": "stderr",
     "output_type": "stream",
     "text": [
      "Found cached dataset parquet (/home/ec22283/.cache/huggingface/datasets/bartoszmaj___parquet/bartoszmaj--sentiment_two-f39108f5c7bc4d52/0.0.0/14a00e99c0d15a23649d0db8944380ac81082d4b021f398733dd84f3a6c569a7)\n"
     ]
    },
    {
     "data": {
      "application/vnd.jupyter.widget-view+json": {
       "model_id": "1c03a182024d403f8c0e604a8d1ad43a",
       "version_major": 2,
       "version_minor": 0
      },
      "text/plain": [
       "  0%|          | 0/1 [00:00<?, ?it/s]"
      ]
     },
     "metadata": {},
     "output_type": "display_data"
    }
   ],
   "source": [
    "two = load_dataset(\"bartoszmaj/sentiment_two\")"
   ]
  },
  {
   "cell_type": "code",
   "execution_count": 18,
   "id": "fa6c6069",
   "metadata": {},
   "outputs": [
    {
     "name": "stderr",
     "output_type": "stream",
     "text": [
      "Found cached dataset parquet (/home/ec22283/.cache/huggingface/datasets/bartoszmaj___parquet/bartoszmaj--sentiment_three-ddf8bb9eb132aa85/0.0.0/14a00e99c0d15a23649d0db8944380ac81082d4b021f398733dd84f3a6c569a7)\n"
     ]
    },
    {
     "data": {
      "application/vnd.jupyter.widget-view+json": {
       "model_id": "940c97eb977447b1bb8dca2aa2dfd0e7",
       "version_major": 2,
       "version_minor": 0
      },
      "text/plain": [
       "  0%|          | 0/1 [00:00<?, ?it/s]"
      ]
     },
     "metadata": {},
     "output_type": "display_data"
    }
   ],
   "source": [
    "three = load_dataset(\"bartoszmaj/sentiment_three\")"
   ]
  },
  {
   "cell_type": "code",
   "execution_count": 19,
   "id": "07499187",
   "metadata": {},
   "outputs": [
    {
     "name": "stderr",
     "output_type": "stream",
     "text": [
      "Found cached dataset parquet (/home/ec22283/.cache/huggingface/datasets/bartoszmaj___parquet/bartoszmaj--sentiment_four-6379c1e84abba8d8/0.0.0/14a00e99c0d15a23649d0db8944380ac81082d4b021f398733dd84f3a6c569a7)\n"
     ]
    },
    {
     "data": {
      "application/vnd.jupyter.widget-view+json": {
       "model_id": "37b55f68e18f4f65825fbf0184cc56f6",
       "version_major": 2,
       "version_minor": 0
      },
      "text/plain": [
       "  0%|          | 0/1 [00:00<?, ?it/s]"
      ]
     },
     "metadata": {},
     "output_type": "display_data"
    }
   ],
   "source": [
    "four = load_dataset(\"bartoszmaj/sentiment_four\")"
   ]
  },
  {
   "cell_type": "code",
   "execution_count": 22,
   "id": "1c221a37",
   "metadata": {},
   "outputs": [],
   "source": [
    "import_sentiments = one[\"train\"][\"sen\"] + two[\"train\"][\"sen\"] + three[\"train\"][\"sen\"] + four[\"train\"][\"sen\"]"
   ]
  },
  {
   "cell_type": "code",
   "execution_count": 23,
   "id": "48be1bd6",
   "metadata": {},
   "outputs": [],
   "source": [
    "sent_df = pd.DataFrame(import_sentiments)"
   ]
  },
  {
   "cell_type": "code",
   "execution_count": 24,
   "id": "7a1f1127",
   "metadata": {},
   "outputs": [
    {
     "data": {
      "text/plain": [
       "4600698"
      ]
     },
     "execution_count": 24,
     "metadata": {},
     "output_type": "execute_result"
    }
   ],
   "source": [
    "len(sent_df)"
   ]
  },
  {
   "cell_type": "code",
   "execution_count": 25,
   "id": "362d7b4c",
   "metadata": {},
   "outputs": [],
   "source": [
    "df = comments[[\"subreddit.name\", \"created_utc\", \"score\"]]"
   ]
  },
  {
   "cell_type": "code",
   "execution_count": 26,
   "id": "4d3a205d",
   "metadata": {},
   "outputs": [
    {
     "name": "stderr",
     "output_type": "stream",
     "text": [
      "/tmp/ipykernel_1035046/3994149591.py:1: SettingWithCopyWarning: \n",
      "A value is trying to be set on a copy of a slice from a DataFrame.\n",
      "Try using .loc[row_indexer,col_indexer] = value instead\n",
      "\n",
      "See the caveats in the documentation: https://pandas.pydata.org/pandas-docs/stable/user_guide/indexing.html#returning-a-view-versus-a-copy\n",
      "  df[\"vader_sentiment\"] = sent_df[\"compound\"].to_list()\n"
     ]
    }
   ],
   "source": [
    "df[\"vader_sentiment\"] = sent_df[\"compound\"].to_list()\n",
    "df = df.rename(columns = {\"subreddit.name\":\"sub\"})"
   ]
  },
  {
   "cell_type": "code",
   "execution_count": 27,
   "id": "c8a0bfd4",
   "metadata": {},
   "outputs": [],
   "source": [
    "comments_time = df[\"created_utc\"].to_list()\n",
    "year = []\n",
    "for utc in comments_time:\n",
    "    dt = datetime.fromtimestamp(utc)\n",
    "    year.append(dt.year)"
   ]
  },
  {
   "cell_type": "code",
   "execution_count": 28,
   "id": "228611ab",
   "metadata": {},
   "outputs": [],
   "source": [
    "df[\"year\"] = year"
   ]
  },
  {
   "cell_type": "code",
   "execution_count": 29,
   "id": "b56e5d50",
   "metadata": {},
   "outputs": [],
   "source": [
    "df[\"sentiment_cat\"] = df[\"vader_sentiment\"].apply(lambda x : \"negative\" if x < -0.05 else \"positive\" if x > 0.05 else \"neutral\" )"
   ]
  },
  {
   "cell_type": "code",
   "execution_count": 30,
   "id": "2c94731a",
   "metadata": {},
   "outputs": [
    {
     "data": {
      "text/html": [
       "<div>\n",
       "<style scoped>\n",
       "    .dataframe tbody tr th:only-of-type {\n",
       "        vertical-align: middle;\n",
       "    }\n",
       "\n",
       "    .dataframe tbody tr th {\n",
       "        vertical-align: top;\n",
       "    }\n",
       "\n",
       "    .dataframe thead th {\n",
       "        text-align: right;\n",
       "    }\n",
       "</style>\n",
       "<table border=\"1\" class=\"dataframe\">\n",
       "  <thead>\n",
       "    <tr style=\"text-align: right;\">\n",
       "      <th></th>\n",
       "      <th>sub</th>\n",
       "      <th>created_utc</th>\n",
       "      <th>score</th>\n",
       "      <th>vader_sentiment</th>\n",
       "      <th>year</th>\n",
       "      <th>sentiment_cat</th>\n",
       "    </tr>\n",
       "  </thead>\n",
       "  <tbody>\n",
       "    <tr>\n",
       "      <th>0</th>\n",
       "      <td>news</td>\n",
       "      <td>1661990368</td>\n",
       "      <td>2</td>\n",
       "      <td>0.5719</td>\n",
       "      <td>2022</td>\n",
       "      <td>positive</td>\n",
       "    </tr>\n",
       "    <tr>\n",
       "      <th>1</th>\n",
       "      <td>ohio</td>\n",
       "      <td>1661990340</td>\n",
       "      <td>2</td>\n",
       "      <td>-0.9876</td>\n",
       "      <td>2022</td>\n",
       "      <td>negative</td>\n",
       "    </tr>\n",
       "    <tr>\n",
       "      <th>2</th>\n",
       "      <td>newzealand</td>\n",
       "      <td>1661990327</td>\n",
       "      <td>1</td>\n",
       "      <td>-0.1143</td>\n",
       "      <td>2022</td>\n",
       "      <td>negative</td>\n",
       "    </tr>\n",
       "    <tr>\n",
       "      <th>3</th>\n",
       "      <td>sacramento</td>\n",
       "      <td>1661990278</td>\n",
       "      <td>4</td>\n",
       "      <td>0.0000</td>\n",
       "      <td>2022</td>\n",
       "      <td>neutral</td>\n",
       "    </tr>\n",
       "    <tr>\n",
       "      <th>4</th>\n",
       "      <td>askreddit</td>\n",
       "      <td>1661990206</td>\n",
       "      <td>1</td>\n",
       "      <td>0.6634</td>\n",
       "      <td>2022</td>\n",
       "      <td>positive</td>\n",
       "    </tr>\n",
       "  </tbody>\n",
       "</table>\n",
       "</div>"
      ],
      "text/plain": [
       "          sub  created_utc  score  vader_sentiment  year sentiment_cat\n",
       "0        news   1661990368      2           0.5719  2022      positive\n",
       "1        ohio   1661990340      2          -0.9876  2022      negative\n",
       "2  newzealand   1661990327      1          -0.1143  2022      negative\n",
       "3  sacramento   1661990278      4           0.0000  2022       neutral\n",
       "4   askreddit   1661990206      1           0.6634  2022      positive"
      ]
     },
     "execution_count": 30,
     "metadata": {},
     "output_type": "execute_result"
    }
   ],
   "source": [
    "df.head()"
   ]
  },
  {
   "cell_type": "code",
   "execution_count": 31,
   "id": "dd9c73c6",
   "metadata": {},
   "outputs": [],
   "source": [
    "full_sent = Dataset.from_pandas(df)\n",
    "#full_sent.push_to_hub(\"bartoszmaj/vader_sentiment_full\")"
   ]
  },
  {
   "cell_type": "code",
   "execution_count": null,
   "id": "d84343a6",
   "metadata": {},
   "outputs": [],
   "source": []
  }
 ],
 "metadata": {
  "kernelspec": {
   "display_name": "Python 3 (ipykernel)",
   "language": "python",
   "name": "python3"
  },
  "language_info": {
   "codemirror_mode": {
    "name": "ipython",
    "version": 3
   },
   "file_extension": ".py",
   "mimetype": "text/x-python",
   "name": "python",
   "nbconvert_exporter": "python",
   "pygments_lexer": "ipython3",
   "version": "3.9.16"
  }
 },
 "nbformat": 4,
 "nbformat_minor": 5
}
