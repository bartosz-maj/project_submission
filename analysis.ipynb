{
 "cells": [
  {
   "cell_type": "code",
   "execution_count": 1,
   "id": "0a174ec9",
   "metadata": {},
   "outputs": [],
   "source": [
    "import pandas as pd\n",
    "import numpy as np\n",
    "from datetime import datetime\n",
    "import json\n",
    "import matplotlib.pyplot as plt\n",
    "from tqdm.auto import tqdm\n",
    "import random\n",
    "import scipy.sparse\n",
    "from datasets import load_dataset, Dataset\n",
    "import gensim\n",
    "from collections import Counter\n",
    "from textblob import TextBlob\n",
    "from datetime import datetime\n"
   ]
  },
  {
   "cell_type": "markdown",
   "id": "acbd3ee5",
   "metadata": {},
   "source": [
    "# Importing Data"
   ]
  },
  {
   "cell_type": "code",
   "execution_count": 2,
   "id": "8c69251f",
   "metadata": {},
   "outputs": [
    {
     "name": "stderr",
     "output_type": "stream",
     "text": [
      "Found cached dataset parquet (/home/ec22283/.cache/huggingface/datasets/bartoszmaj___parquet/bartoszmaj--vader_sentiment_full-90f06cb4a1e85dd0/0.0.0/14a00e99c0d15a23649d0db8944380ac81082d4b021f398733dd84f3a6c569a7)\n"
     ]
    },
    {
     "data": {
      "application/vnd.jupyter.widget-view+json": {
       "model_id": "",
       "version_major": 2,
       "version_minor": 0
      },
      "text/plain": [
       "  0%|          | 0/1 [00:00<?, ?it/s]"
      ]
     },
     "metadata": {},
     "output_type": "display_data"
    },
    {
     "name": "stderr",
     "output_type": "stream",
     "text": [
      "Found cached dataset parquet (/home/ec22283/.cache/huggingface/datasets/bartoszmaj___parquet/bartoszmaj--topics_labelled-119546883b7ae67f/0.0.0/14a00e99c0d15a23649d0db8944380ac81082d4b021f398733dd84f3a6c569a7)\n"
     ]
    },
    {
     "data": {
      "application/vnd.jupyter.widget-view+json": {
       "model_id": "",
       "version_major": 2,
       "version_minor": 0
      },
      "text/plain": [
       "  0%|          | 0/1 [00:00<?, ?it/s]"
      ]
     },
     "metadata": {},
     "output_type": "display_data"
    },
    {
     "name": "stderr",
     "output_type": "stream",
     "text": [
      "Found cached dataset parquet (/home/ec22283/.cache/huggingface/datasets/bartoszmaj___parquet/bartoszmaj--stance_predictions-c8c892db9c9c0dc9/0.0.0/14a00e99c0d15a23649d0db8944380ac81082d4b021f398733dd84f3a6c569a7)\n"
     ]
    },
    {
     "data": {
      "application/vnd.jupyter.widget-view+json": {
       "model_id": "",
       "version_major": 2,
       "version_minor": 0
      },
      "text/plain": [
       "  0%|          | 0/1 [00:00<?, ?it/s]"
      ]
     },
     "metadata": {},
     "output_type": "display_data"
    }
   ],
   "source": [
    "sentiment_import = load_dataset(\"bartoszmaj/vader_sentiment_full\")\n",
    "topic_import = load_dataset(\"bartoszmaj/topics_labelled\")\n",
    "stance_import = load_dataset(\"bartoszmaj/stance_predictions\")"
   ]
  },
  {
   "cell_type": "code",
   "execution_count": 3,
   "id": "69177bb1",
   "metadata": {},
   "outputs": [],
   "source": [
    "comment_df = pd.read_csv(\"comments.csv\")"
   ]
  },
  {
   "cell_type": "code",
   "execution_count": 4,
   "id": "5168dbad",
   "metadata": {},
   "outputs": [
    {
     "data": {
      "text/html": [
       "<div>\n",
       "<style scoped>\n",
       "    .dataframe tbody tr th:only-of-type {\n",
       "        vertical-align: middle;\n",
       "    }\n",
       "\n",
       "    .dataframe tbody tr th {\n",
       "        vertical-align: top;\n",
       "    }\n",
       "\n",
       "    .dataframe thead th {\n",
       "        text-align: right;\n",
       "    }\n",
       "</style>\n",
       "<table border=\"1\" class=\"dataframe\">\n",
       "  <thead>\n",
       "    <tr style=\"text-align: right;\">\n",
       "      <th></th>\n",
       "      <th>type</th>\n",
       "      <th>id</th>\n",
       "      <th>subreddit.id</th>\n",
       "      <th>subreddit.name</th>\n",
       "      <th>subreddit.nsfw</th>\n",
       "      <th>created_utc</th>\n",
       "      <th>permalink</th>\n",
       "      <th>body</th>\n",
       "      <th>sentiment</th>\n",
       "      <th>score</th>\n",
       "    </tr>\n",
       "  </thead>\n",
       "  <tbody>\n",
       "    <tr>\n",
       "      <th>0</th>\n",
       "      <td>comment</td>\n",
       "      <td>imlddn9</td>\n",
       "      <td>2qh3l</td>\n",
       "      <td>news</td>\n",
       "      <td>False</td>\n",
       "      <td>1661990368</td>\n",
       "      <td>https://old.reddit.com/r/news/comments/x2cszk/...</td>\n",
       "      <td>Yeah but what the above commenter is saying is...</td>\n",
       "      <td>0.5719</td>\n",
       "      <td>2</td>\n",
       "    </tr>\n",
       "  </tbody>\n",
       "</table>\n",
       "</div>"
      ],
      "text/plain": [
       "      type       id subreddit.id subreddit.name  subreddit.nsfw  created_utc  \\\n",
       "0  comment  imlddn9        2qh3l           news           False   1661990368   \n",
       "\n",
       "                                           permalink  \\\n",
       "0  https://old.reddit.com/r/news/comments/x2cszk/...   \n",
       "\n",
       "                                                body  sentiment  score  \n",
       "0  Yeah but what the above commenter is saying is...     0.5719      2  "
      ]
     },
     "execution_count": 4,
     "metadata": {},
     "output_type": "execute_result"
    }
   ],
   "source": [
    "comment_df.head(1)"
   ]
  },
  {
   "cell_type": "code",
   "execution_count": 5,
   "id": "bfa7afb9",
   "metadata": {},
   "outputs": [],
   "source": [
    "sentiment_list, topic_list, stance_list = sentiment_import[\"train\"][\"sentiment_cat\"], topic_import[\"train\"][\"topics\"], stance_import[\"train\"][\"predictions\"]"
   ]
  },
  {
   "cell_type": "code",
   "execution_count": 6,
   "id": "2eef5ce2",
   "metadata": {},
   "outputs": [
    {
     "data": {
      "text/plain": [
       "(4600698, 4600698, 4600698)"
      ]
     },
     "execution_count": 6,
     "metadata": {},
     "output_type": "execute_result"
    }
   ],
   "source": [
    "len(sentiment_list), len(topic_list), len(stance_list)"
   ]
  },
  {
   "cell_type": "code",
   "execution_count": 7,
   "id": "af56294b",
   "metadata": {},
   "outputs": [],
   "source": [
    "main_df = comment_df[[\"subreddit.name\", \"score\"]]\n",
    "main_df = main_df.rename(columns = {\"subreddit.name\" : \"sub\"})"
   ]
  },
  {
   "cell_type": "code",
   "execution_count": 8,
   "id": "f35813ad",
   "metadata": {},
   "outputs": [],
   "source": [
    "main_df[\"stance\"] = stance_list\n",
    "main_df[\"topic\"] = topic_list\n",
    "main_df[\"sentiment\"] = sentiment_list"
   ]
  },
  {
   "cell_type": "code",
   "execution_count": 9,
   "id": "8ac23d3b",
   "metadata": {},
   "outputs": [],
   "source": [
    "comments_time = comment_df[\"created_utc\"].to_list()\n",
    "year = []\n",
    "for utc in comments_time:\n",
    "    dt = datetime.fromtimestamp(utc)\n",
    "    year.append(dt.year)\n",
    "main_df[\"year\"] = year"
   ]
  },
  {
   "cell_type": "code",
   "execution_count": 10,
   "id": "1e1f667f",
   "metadata": {},
   "outputs": [],
   "source": [
    "main_df = main_df[main_df[\"year\"] != 2009]"
   ]
  },
  {
   "cell_type": "code",
   "execution_count": 11,
   "id": "3c1547f9",
   "metadata": {},
   "outputs": [],
   "source": [
    "topics = {0:\"science\",\n",
    "          1:\"energy\",\n",
    "          2:\"family\", \n",
    "          3:\"politics\",\n",
    "          4:\"humanity\", \n",
    "          5:\"climate\",\n",
    "          6:\"information\",}"
   ]
  },
  {
   "cell_type": "code",
   "execution_count": 12,
   "id": "c5cf692f",
   "metadata": {},
   "outputs": [],
   "source": [
    "main_df[\"topic\"] = main_df[\"topic\"].replace(topics)"
   ]
  },
  {
   "cell_type": "code",
   "execution_count": 13,
   "id": "e3ed9f62",
   "metadata": {},
   "outputs": [
    {
     "data": {
      "text/html": [
       "<div>\n",
       "<style scoped>\n",
       "    .dataframe tbody tr th:only-of-type {\n",
       "        vertical-align: middle;\n",
       "    }\n",
       "\n",
       "    .dataframe tbody tr th {\n",
       "        vertical-align: top;\n",
       "    }\n",
       "\n",
       "    .dataframe thead th {\n",
       "        text-align: right;\n",
       "    }\n",
       "</style>\n",
       "<table border=\"1\" class=\"dataframe\">\n",
       "  <thead>\n",
       "    <tr style=\"text-align: right;\">\n",
       "      <th></th>\n",
       "      <th>sub</th>\n",
       "      <th>score</th>\n",
       "      <th>stance</th>\n",
       "      <th>topic</th>\n",
       "      <th>sentiment</th>\n",
       "      <th>year</th>\n",
       "    </tr>\n",
       "  </thead>\n",
       "  <tbody>\n",
       "    <tr>\n",
       "      <th>0</th>\n",
       "      <td>news</td>\n",
       "      <td>2</td>\n",
       "      <td>Pro</td>\n",
       "      <td>family</td>\n",
       "      <td>positive</td>\n",
       "      <td>2022</td>\n",
       "    </tr>\n",
       "    <tr>\n",
       "      <th>1</th>\n",
       "      <td>ohio</td>\n",
       "      <td>2</td>\n",
       "      <td>Pro</td>\n",
       "      <td>energy</td>\n",
       "      <td>negative</td>\n",
       "      <td>2022</td>\n",
       "    </tr>\n",
       "    <tr>\n",
       "      <th>2</th>\n",
       "      <td>newzealand</td>\n",
       "      <td>1</td>\n",
       "      <td>Pro</td>\n",
       "      <td>climate</td>\n",
       "      <td>negative</td>\n",
       "      <td>2022</td>\n",
       "    </tr>\n",
       "    <tr>\n",
       "      <th>3</th>\n",
       "      <td>sacramento</td>\n",
       "      <td>4</td>\n",
       "      <td>Pro</td>\n",
       "      <td>climate</td>\n",
       "      <td>neutral</td>\n",
       "      <td>2022</td>\n",
       "    </tr>\n",
       "    <tr>\n",
       "      <th>4</th>\n",
       "      <td>askreddit</td>\n",
       "      <td>1</td>\n",
       "      <td>Neutral</td>\n",
       "      <td>science</td>\n",
       "      <td>positive</td>\n",
       "      <td>2022</td>\n",
       "    </tr>\n",
       "  </tbody>\n",
       "</table>\n",
       "</div>"
      ],
      "text/plain": [
       "          sub  score   stance    topic sentiment  year\n",
       "0        news      2      Pro   family  positive  2022\n",
       "1        ohio      2      Pro   energy  negative  2022\n",
       "2  newzealand      1      Pro  climate  negative  2022\n",
       "3  sacramento      4      Pro  climate   neutral  2022\n",
       "4   askreddit      1  Neutral  science  positive  2022"
      ]
     },
     "execution_count": 13,
     "metadata": {},
     "output_type": "execute_result"
    }
   ],
   "source": [
    "main_df.head()"
   ]
  },
  {
   "cell_type": "code",
   "execution_count": 14,
   "id": "d58fa946",
   "metadata": {},
   "outputs": [
    {
     "data": {
      "text/plain": [
       "stance\n",
       "Pro        60.091660\n",
       "Neutral    32.250388\n",
       "Anti        7.657952\n",
       "Name: count, dtype: float64"
      ]
     },
     "execution_count": 14,
     "metadata": {},
     "output_type": "execute_result"
    }
   ],
   "source": [
    "(main_df[\"stance\"].value_counts())/len(main_df) * 100"
   ]
  },
  {
   "cell_type": "code",
   "execution_count": 15,
   "id": "4c107311",
   "metadata": {},
   "outputs": [
    {
     "data": {
      "text/plain": [
       "topic\n",
       "family         23.993657\n",
       "science        23.854961\n",
       "energy         20.637860\n",
       "climate         8.905546\n",
       "humanity        8.466112\n",
       "politics        8.081670\n",
       "information     6.060193\n",
       "Name: count, dtype: float64"
      ]
     },
     "execution_count": 15,
     "metadata": {},
     "output_type": "execute_result"
    }
   ],
   "source": [
    "(main_df[\"topic\"].value_counts())/len(main_df) * 100"
   ]
  },
  {
   "cell_type": "code",
   "execution_count": 16,
   "id": "328cc01f",
   "metadata": {},
   "outputs": [
    {
     "data": {
      "text/plain": [
       "sentiment\n",
       "negative    46.325197\n",
       "positive    44.594697\n",
       "neutral      9.080106\n",
       "Name: count, dtype: float64"
      ]
     },
     "execution_count": 16,
     "metadata": {},
     "output_type": "execute_result"
    }
   ],
   "source": [
    "(main_df[\"sentiment\"].value_counts())/len(main_df) * 100"
   ]
  },
  {
   "cell_type": "markdown",
   "id": "17793237",
   "metadata": {},
   "source": [
    "# Sentiment Data"
   ]
  },
  {
   "cell_type": "code",
   "execution_count": 17,
   "id": "fb6c6782",
   "metadata": {},
   "outputs": [
    {
     "data": {
      "text/plain": [
       "sentiment\n",
       "negative    46.325197\n",
       "positive    44.594697\n",
       "neutral      9.080106\n",
       "Name: count, dtype: float64"
      ]
     },
     "execution_count": 17,
     "metadata": {},
     "output_type": "execute_result"
    }
   ],
   "source": [
    "(main_df[\"sentiment\"].value_counts()/len(main_df)) * 100"
   ]
  },
  {
   "cell_type": "code",
   "execution_count": 18,
   "id": "8437592f",
   "metadata": {},
   "outputs": [],
   "source": [
    "common_subreddits = [key for key, value in main_df[\"sub\"].value_counts().head(15).to_dict().items()]"
   ]
  },
  {
   "cell_type": "code",
   "execution_count": 19,
   "id": "06d9cf0c",
   "metadata": {},
   "outputs": [
    {
     "data": {
      "text/html": [
       "<div>\n",
       "<style scoped>\n",
       "    .dataframe tbody tr th:only-of-type {\n",
       "        vertical-align: middle;\n",
       "    }\n",
       "\n",
       "    .dataframe tbody tr th {\n",
       "        vertical-align: top;\n",
       "    }\n",
       "\n",
       "    .dataframe thead th {\n",
       "        text-align: right;\n",
       "    }\n",
       "</style>\n",
       "<table border=\"1\" class=\"dataframe\">\n",
       "  <thead>\n",
       "    <tr style=\"text-align: right;\">\n",
       "      <th>sentiment</th>\n",
       "      <th>negative</th>\n",
       "      <th>neutral</th>\n",
       "      <th>positive</th>\n",
       "    </tr>\n",
       "    <tr>\n",
       "      <th>sub</th>\n",
       "      <th></th>\n",
       "      <th></th>\n",
       "      <th></th>\n",
       "    </tr>\n",
       "  </thead>\n",
       "  <tbody>\n",
       "    <tr>\n",
       "      <th>politics</th>\n",
       "      <td>47.69</td>\n",
       "      <td>7.66</td>\n",
       "      <td>44.64</td>\n",
       "    </tr>\n",
       "    <tr>\n",
       "      <th>worldnews</th>\n",
       "      <td>49.96</td>\n",
       "      <td>8.42</td>\n",
       "      <td>41.63</td>\n",
       "    </tr>\n",
       "    <tr>\n",
       "      <th>askreddit</th>\n",
       "      <td>45.88</td>\n",
       "      <td>18.10</td>\n",
       "      <td>36.02</td>\n",
       "    </tr>\n",
       "    <tr>\n",
       "      <th>collapse</th>\n",
       "      <td>54.44</td>\n",
       "      <td>7.05</td>\n",
       "      <td>38.51</td>\n",
       "    </tr>\n",
       "    <tr>\n",
       "      <th>news</th>\n",
       "      <td>51.38</td>\n",
       "      <td>9.33</td>\n",
       "      <td>39.29</td>\n",
       "    </tr>\n",
       "    <tr>\n",
       "      <th>futurology</th>\n",
       "      <td>46.35</td>\n",
       "      <td>7.59</td>\n",
       "      <td>46.06</td>\n",
       "    </tr>\n",
       "    <tr>\n",
       "      <th>science</th>\n",
       "      <td>42.72</td>\n",
       "      <td>9.11</td>\n",
       "      <td>48.17</td>\n",
       "    </tr>\n",
       "    <tr>\n",
       "      <th>environment</th>\n",
       "      <td>47.24</td>\n",
       "      <td>8.32</td>\n",
       "      <td>44.44</td>\n",
       "    </tr>\n",
       "    <tr>\n",
       "      <th>canada</th>\n",
       "      <td>45.05</td>\n",
       "      <td>7.94</td>\n",
       "      <td>47.01</td>\n",
       "    </tr>\n",
       "    <tr>\n",
       "      <th>australia</th>\n",
       "      <td>47.58</td>\n",
       "      <td>8.44</td>\n",
       "      <td>43.99</td>\n",
       "    </tr>\n",
       "    <tr>\n",
       "      <th>conspiracy</th>\n",
       "      <td>49.08</td>\n",
       "      <td>11.01</td>\n",
       "      <td>39.91</td>\n",
       "    </tr>\n",
       "    <tr>\n",
       "      <th>unpopularopinion</th>\n",
       "      <td>50.20</td>\n",
       "      <td>7.82</td>\n",
       "      <td>41.97</td>\n",
       "    </tr>\n",
       "    <tr>\n",
       "      <th>climateskeptics</th>\n",
       "      <td>45.88</td>\n",
       "      <td>8.18</td>\n",
       "      <td>45.94</td>\n",
       "    </tr>\n",
       "    <tr>\n",
       "      <th>ukpolitics</th>\n",
       "      <td>46.49</td>\n",
       "      <td>7.33</td>\n",
       "      <td>46.19</td>\n",
       "    </tr>\n",
       "    <tr>\n",
       "      <th>changemyview</th>\n",
       "      <td>47.56</td>\n",
       "      <td>3.42</td>\n",
       "      <td>49.01</td>\n",
       "    </tr>\n",
       "  </tbody>\n",
       "</table>\n",
       "</div>"
      ],
      "text/plain": [
       "sentiment         negative  neutral  positive\n",
       "sub                                          \n",
       "politics             47.69     7.66     44.64\n",
       "worldnews            49.96     8.42     41.63\n",
       "askreddit            45.88    18.10     36.02\n",
       "collapse             54.44     7.05     38.51\n",
       "news                 51.38     9.33     39.29\n",
       "futurology           46.35     7.59     46.06\n",
       "science              42.72     9.11     48.17\n",
       "environment          47.24     8.32     44.44\n",
       "canada               45.05     7.94     47.01\n",
       "australia            47.58     8.44     43.99\n",
       "conspiracy           49.08    11.01     39.91\n",
       "unpopularopinion     50.20     7.82     41.97\n",
       "climateskeptics      45.88     8.18     45.94\n",
       "ukpolitics           46.49     7.33     46.19\n",
       "changemyview         47.56     3.42     49.01"
      ]
     },
     "execution_count": 19,
     "metadata": {},
     "output_type": "execute_result"
    }
   ],
   "source": [
    "sub_sent = main_df[main_df[\"sub\"].isin(common_subreddits)].groupby([\"sub\"])[\"sentiment\"].value_counts().unstack(1)\n",
    "sub_sent_norm = round(sub_sent.div(sub_sent.sum(axis = 1), axis = 0)*100, 2)\n",
    "sub_sent_norm = sub_sent_norm.reset_index(level = 0)\n",
    "sub_sent_norm[\"sub\"] = sub_sent_norm[\"sub\"].astype(\"category\")\n",
    "sub_sent_norm[\"sub\"] = sub_sent_norm[\"sub\"].cat.set_categories(common_subreddits)\n",
    "sub_sent_norm.sort_values([\"sub\"]).set_index(\"sub\", drop = True)"
   ]
  },
  {
   "cell_type": "code",
   "execution_count": 20,
   "id": "cb2fcc78",
   "metadata": {
    "scrolled": true
   },
   "outputs": [
    {
     "data": {
      "text/plain": [
       "<Axes: title={'center': 'Shifts In Sentiment Between 2010 and 2022'}, xlabel='Year', ylabel='Percentage'>"
      ]
     },
     "execution_count": 20,
     "metadata": {},
     "output_type": "execute_result"
    },
    {
     "data": {
      "image/png": "[encoded data removed]",
      "text/plain": [
       "<Figure size 1500x700 with 1 Axes>"
      ]
     },
     "metadata": {},
     "output_type": "display_data"
    }
   ],
   "source": [
    "year_sent = pd.DataFrame(main_df.groupby([\"year\"])[\"sentiment\"].value_counts()).unstack(1)\n",
    "year_sent_norm = round(year_sent.div(year_sent.sum(axis=1), axis=0)*100, 2)[\"count\"]\n",
    "year_sent_norm.reset_index(level = 0).set_index(\"year\",drop = True).plot(figsize = (15,7), \n",
    "                                                                         title = \"Shifts In Sentiment Between 2010 and 2022\",\n",
    "                                                                         xlabel = \"Year\",\n",
    "                                                                         ylabel = \"Percentage\")"
   ]
  },
  {
   "cell_type": "code",
   "execution_count": 21,
   "id": "0abf3c48",
   "metadata": {},
   "outputs": [
    {
     "data": {
      "text/html": [
       "<div>\n",
       "<style scoped>\n",
       "    .dataframe tbody tr th:only-of-type {\n",
       "        vertical-align: middle;\n",
       "    }\n",
       "\n",
       "    .dataframe tbody tr th {\n",
       "        vertical-align: top;\n",
       "    }\n",
       "\n",
       "    .dataframe thead th {\n",
       "        text-align: right;\n",
       "    }\n",
       "</style>\n",
       "<table border=\"1\" class=\"dataframe\">\n",
       "  <thead>\n",
       "    <tr style=\"text-align: right;\">\n",
       "      <th></th>\n",
       "      <th>score</th>\n",
       "    </tr>\n",
       "    <tr>\n",
       "      <th>sentiment</th>\n",
       "      <th></th>\n",
       "    </tr>\n",
       "  </thead>\n",
       "  <tbody>\n",
       "    <tr>\n",
       "      <th>negative</th>\n",
       "      <td>10.011322</td>\n",
       "    </tr>\n",
       "    <tr>\n",
       "      <th>positive</th>\n",
       "      <td>9.193712</td>\n",
       "    </tr>\n",
       "    <tr>\n",
       "      <th>neutral</th>\n",
       "      <td>8.969242</td>\n",
       "    </tr>\n",
       "  </tbody>\n",
       "</table>\n",
       "</div>"
      ],
      "text/plain": [
       "               score\n",
       "sentiment           \n",
       "negative   10.011322\n",
       "positive    9.193712\n",
       "neutral     8.969242"
      ]
     },
     "execution_count": 21,
     "metadata": {},
     "output_type": "execute_result"
    }
   ],
   "source": [
    "series = main_df.groupby([\"sentiment\"])[\"score\"].mean().sort_values(ascending = False)\n",
    "pd.DataFrame(series)"
   ]
  },
  {
   "cell_type": "markdown",
   "id": "23bcd116",
   "metadata": {},
   "source": [
    "# Topic Data"
   ]
  },
  {
   "cell_type": "code",
   "execution_count": 22,
   "id": "ed645346",
   "metadata": {},
   "outputs": [
    {
     "data": {
      "text/plain": [
       "topic\n",
       "family         23.993657\n",
       "science        23.854961\n",
       "energy         20.637860\n",
       "climate         8.905546\n",
       "humanity        8.466112\n",
       "politics        8.081670\n",
       "information     6.060193\n",
       "Name: count, dtype: float64"
      ]
     },
     "execution_count": 22,
     "metadata": {},
     "output_type": "execute_result"
    }
   ],
   "source": [
    "(main_df[\"topic\"].value_counts()/len(main_df)) * 100"
   ]
  },
  {
   "cell_type": "code",
   "execution_count": 23,
   "id": "af1071d9",
   "metadata": {},
   "outputs": [],
   "source": [
    "common_subreddits = [key for key, value in main_df[\"sub\"].value_counts().head(100).to_dict().items()]"
   ]
  },
  {
   "cell_type": "code",
   "execution_count": 24,
   "id": "c8121018",
   "metadata": {},
   "outputs": [
    {
     "data": {
      "text/html": [
       "<div>\n",
       "<style scoped>\n",
       "    .dataframe tbody tr th:only-of-type {\n",
       "        vertical-align: middle;\n",
       "    }\n",
       "\n",
       "    .dataframe tbody tr th {\n",
       "        vertical-align: top;\n",
       "    }\n",
       "\n",
       "    .dataframe thead th {\n",
       "        text-align: right;\n",
       "    }\n",
       "</style>\n",
       "<table border=\"1\" class=\"dataframe\">\n",
       "  <thead>\n",
       "    <tr style=\"text-align: right;\">\n",
       "      <th>topic</th>\n",
       "      <th>climate</th>\n",
       "      <th>energy</th>\n",
       "      <th>family</th>\n",
       "      <th>humanity</th>\n",
       "      <th>information</th>\n",
       "      <th>politics</th>\n",
       "      <th>science</th>\n",
       "    </tr>\n",
       "    <tr>\n",
       "      <th>sub</th>\n",
       "      <th></th>\n",
       "      <th></th>\n",
       "      <th></th>\n",
       "      <th></th>\n",
       "      <th></th>\n",
       "      <th></th>\n",
       "      <th></th>\n",
       "    </tr>\n",
       "  </thead>\n",
       "  <tbody>\n",
       "    <tr>\n",
       "      <th>politics</th>\n",
       "      <td>6.16</td>\n",
       "      <td>20.06</td>\n",
       "      <td>26.70</td>\n",
       "      <td>16.31</td>\n",
       "      <td>3.40</td>\n",
       "      <td>9.08</td>\n",
       "      <td>18.28</td>\n",
       "    </tr>\n",
       "    <tr>\n",
       "      <th>worldnews</th>\n",
       "      <td>11.54</td>\n",
       "      <td>21.34</td>\n",
       "      <td>24.64</td>\n",
       "      <td>8.13</td>\n",
       "      <td>6.09</td>\n",
       "      <td>8.13</td>\n",
       "      <td>20.13</td>\n",
       "    </tr>\n",
       "    <tr>\n",
       "      <th>askreddit</th>\n",
       "      <td>14.72</td>\n",
       "      <td>14.89</td>\n",
       "      <td>23.30</td>\n",
       "      <td>6.43</td>\n",
       "      <td>6.92</td>\n",
       "      <td>5.75</td>\n",
       "      <td>28.00</td>\n",
       "    </tr>\n",
       "    <tr>\n",
       "      <th>collapse</th>\n",
       "      <td>14.17</td>\n",
       "      <td>18.56</td>\n",
       "      <td>21.30</td>\n",
       "      <td>6.78</td>\n",
       "      <td>5.88</td>\n",
       "      <td>11.07</td>\n",
       "      <td>22.24</td>\n",
       "    </tr>\n",
       "    <tr>\n",
       "      <th>news</th>\n",
       "      <td>8.70</td>\n",
       "      <td>19.58</td>\n",
       "      <td>25.98</td>\n",
       "      <td>8.55</td>\n",
       "      <td>7.77</td>\n",
       "      <td>7.74</td>\n",
       "      <td>21.68</td>\n",
       "    </tr>\n",
       "    <tr>\n",
       "      <th>...</th>\n",
       "      <td>...</td>\n",
       "      <td>...</td>\n",
       "      <td>...</td>\n",
       "      <td>...</td>\n",
       "      <td>...</td>\n",
       "      <td>...</td>\n",
       "      <td>...</td>\n",
       "    </tr>\n",
       "    <tr>\n",
       "      <th>wallstreetbets</th>\n",
       "      <td>9.19</td>\n",
       "      <td>29.44</td>\n",
       "      <td>14.41</td>\n",
       "      <td>8.00</td>\n",
       "      <td>6.06</td>\n",
       "      <td>4.24</td>\n",
       "      <td>28.65</td>\n",
       "    </tr>\n",
       "    <tr>\n",
       "      <th>television</th>\n",
       "      <td>4.55</td>\n",
       "      <td>19.27</td>\n",
       "      <td>33.41</td>\n",
       "      <td>7.78</td>\n",
       "      <td>2.84</td>\n",
       "      <td>7.19</td>\n",
       "      <td>24.96</td>\n",
       "    </tr>\n",
       "    <tr>\n",
       "      <th>documentaries</th>\n",
       "      <td>7.55</td>\n",
       "      <td>22.51</td>\n",
       "      <td>29.17</td>\n",
       "      <td>6.40</td>\n",
       "      <td>4.30</td>\n",
       "      <td>9.20</td>\n",
       "      <td>20.88</td>\n",
       "    </tr>\n",
       "    <tr>\n",
       "      <th>childfree</th>\n",
       "      <td>15.13</td>\n",
       "      <td>12.00</td>\n",
       "      <td>14.18</td>\n",
       "      <td>2.94</td>\n",
       "      <td>1.68</td>\n",
       "      <td>5.09</td>\n",
       "      <td>48.97</td>\n",
       "    </tr>\n",
       "    <tr>\n",
       "      <th>anarcho_capitalism</th>\n",
       "      <td>7.73</td>\n",
       "      <td>24.82</td>\n",
       "      <td>28.43</td>\n",
       "      <td>5.60</td>\n",
       "      <td>4.65</td>\n",
       "      <td>7.70</td>\n",
       "      <td>21.07</td>\n",
       "    </tr>\n",
       "  </tbody>\n",
       "</table>\n",
       "<p>100 rows × 7 columns</p>\n",
       "</div>"
      ],
      "text/plain": [
       "topic               climate  energy  family  humanity  information  politics  \\\n",
       "sub                                                                            \n",
       "politics               6.16   20.06   26.70     16.31         3.40      9.08   \n",
       "worldnews             11.54   21.34   24.64      8.13         6.09      8.13   \n",
       "askreddit             14.72   14.89   23.30      6.43         6.92      5.75   \n",
       "collapse              14.17   18.56   21.30      6.78         5.88     11.07   \n",
       "news                   8.70   19.58   25.98      8.55         7.77      7.74   \n",
       "...                     ...     ...     ...       ...          ...       ...   \n",
       "wallstreetbets         9.19   29.44   14.41      8.00         6.06      4.24   \n",
       "television             4.55   19.27   33.41      7.78         2.84      7.19   \n",
       "documentaries          7.55   22.51   29.17      6.40         4.30      9.20   \n",
       "childfree             15.13   12.00   14.18      2.94         1.68      5.09   \n",
       "anarcho_capitalism     7.73   24.82   28.43      5.60         4.65      7.70   \n",
       "\n",
       "topic               science  \n",
       "sub                          \n",
       "politics              18.28  \n",
       "worldnews             20.13  \n",
       "askreddit             28.00  \n",
       "collapse              22.24  \n",
       "news                  21.68  \n",
       "...                     ...  \n",
       "wallstreetbets        28.65  \n",
       "television            24.96  \n",
       "documentaries         20.88  \n",
       "childfree             48.97  \n",
       "anarcho_capitalism    21.07  \n",
       "\n",
       "[100 rows x 7 columns]"
      ]
     },
     "execution_count": 24,
     "metadata": {},
     "output_type": "execute_result"
    }
   ],
   "source": [
    "sub_sent = main_df[main_df[\"sub\"].isin(common_subreddits)].groupby([\"sub\"])[\"topic\"].value_counts().unstack(1)\n",
    "sub_sent_norm = round(sub_sent.div(sub_sent.sum(axis = 1), axis = 0)*100, 2)\n",
    "sub_sent_norm = sub_sent_norm.reset_index(level = 0)\n",
    "sub_sent_norm[\"sub\"] = sub_sent_norm[\"sub\"].astype(\"category\")\n",
    "sub_sent_norm[\"sub\"] = sub_sent_norm[\"sub\"].cat.set_categories(common_subreddits)\n",
    "topic_df = sub_sent_norm.sort_values([\"sub\"]).set_index(\"sub\", drop = True)\n",
    "topic_df"
   ]
  },
  {
   "cell_type": "code",
   "execution_count": 25,
   "id": "ae7e5429",
   "metadata": {},
   "outputs": [
    {
     "data": {
      "text/plain": [
       "family         53\n",
       "science        24\n",
       "energy         21\n",
       "information     1\n",
       "humanity        1\n",
       "Name: count, dtype: int64"
      ]
     },
     "execution_count": 25,
     "metadata": {},
     "output_type": "execute_result"
    }
   ],
   "source": [
    "topic_df.idxmax(axis=1).value_counts()"
   ]
  },
  {
   "cell_type": "code",
   "execution_count": 26,
   "id": "8833484d",
   "metadata": {},
   "outputs": [],
   "source": [
    "highest = pd.DataFrame(topic_df.idxmax(axis=1),\n",
    "                       columns = [\"max_topic\"])"
   ]
  },
  {
   "cell_type": "code",
   "execution_count": 27,
   "id": "a3fbda3a",
   "metadata": {},
   "outputs": [
    {
     "data": {
      "text/html": [
       "<div>\n",
       "<style scoped>\n",
       "    .dataframe tbody tr th:only-of-type {\n",
       "        vertical-align: middle;\n",
       "    }\n",
       "\n",
       "    .dataframe tbody tr th {\n",
       "        vertical-align: top;\n",
       "    }\n",
       "\n",
       "    .dataframe thead th {\n",
       "        text-align: right;\n",
       "    }\n",
       "</style>\n",
       "<table border=\"1\" class=\"dataframe\">\n",
       "  <thead>\n",
       "    <tr style=\"text-align: right;\">\n",
       "      <th></th>\n",
       "      <th>max_topic</th>\n",
       "    </tr>\n",
       "    <tr>\n",
       "      <th>sub</th>\n",
       "      <th></th>\n",
       "    </tr>\n",
       "  </thead>\n",
       "  <tbody>\n",
       "    <tr>\n",
       "      <th>askreddit</th>\n",
       "      <td>science</td>\n",
       "    </tr>\n",
       "    <tr>\n",
       "      <th>collapse</th>\n",
       "      <td>science</td>\n",
       "    </tr>\n",
       "    <tr>\n",
       "      <th>unitedkingdom</th>\n",
       "      <td>science</td>\n",
       "    </tr>\n",
       "    <tr>\n",
       "      <th>memes</th>\n",
       "      <td>science</td>\n",
       "    </tr>\n",
       "    <tr>\n",
       "      <th>newzealand</th>\n",
       "      <td>science</td>\n",
       "    </tr>\n",
       "    <tr>\n",
       "      <th>whitepeopletwitter</th>\n",
       "      <td>science</td>\n",
       "    </tr>\n",
       "    <tr>\n",
       "      <th>interestingasfuck</th>\n",
       "      <td>science</td>\n",
       "    </tr>\n",
       "    <tr>\n",
       "      <th>publicfreakout</th>\n",
       "      <td>science</td>\n",
       "    </tr>\n",
       "    <tr>\n",
       "      <th>teenagers</th>\n",
       "      <td>science</td>\n",
       "    </tr>\n",
       "    <tr>\n",
       "      <th>showerthoughts</th>\n",
       "      <td>science</td>\n",
       "    </tr>\n",
       "    <tr>\n",
       "      <th>latestagecapitalism</th>\n",
       "      <td>science</td>\n",
       "    </tr>\n",
       "    <tr>\n",
       "      <th>antiwork</th>\n",
       "      <td>science</td>\n",
       "    </tr>\n",
       "    <tr>\n",
       "      <th>dankmemes</th>\n",
       "      <td>science</td>\n",
       "    </tr>\n",
       "    <tr>\n",
       "      <th>ireland</th>\n",
       "      <td>science</td>\n",
       "    </tr>\n",
       "    <tr>\n",
       "      <th>movies</th>\n",
       "      <td>science</td>\n",
       "    </tr>\n",
       "    <tr>\n",
       "      <th>tooafraidtoask</th>\n",
       "      <td>science</td>\n",
       "    </tr>\n",
       "    <tr>\n",
       "      <th>vancouver</th>\n",
       "      <td>science</td>\n",
       "    </tr>\n",
       "    <tr>\n",
       "      <th>damnthatsinteresting</th>\n",
       "      <td>science</td>\n",
       "    </tr>\n",
       "    <tr>\n",
       "      <th>coronavirus</th>\n",
       "      <td>science</td>\n",
       "    </tr>\n",
       "    <tr>\n",
       "      <th>askanamerican</th>\n",
       "      <td>science</td>\n",
       "    </tr>\n",
       "    <tr>\n",
       "      <th>wtf</th>\n",
       "      <td>science</td>\n",
       "    </tr>\n",
       "    <tr>\n",
       "      <th>india</th>\n",
       "      <td>science</td>\n",
       "    </tr>\n",
       "    <tr>\n",
       "      <th>aboringdystopia</th>\n",
       "      <td>science</td>\n",
       "    </tr>\n",
       "    <tr>\n",
       "      <th>childfree</th>\n",
       "      <td>science</td>\n",
       "    </tr>\n",
       "  </tbody>\n",
       "</table>\n",
       "</div>"
      ],
      "text/plain": [
       "                     max_topic\n",
       "sub                           \n",
       "askreddit              science\n",
       "collapse               science\n",
       "unitedkingdom          science\n",
       "memes                  science\n",
       "newzealand             science\n",
       "whitepeopletwitter     science\n",
       "interestingasfuck      science\n",
       "publicfreakout         science\n",
       "teenagers              science\n",
       "showerthoughts         science\n",
       "latestagecapitalism    science\n",
       "antiwork               science\n",
       "dankmemes              science\n",
       "ireland                science\n",
       "movies                 science\n",
       "tooafraidtoask         science\n",
       "vancouver              science\n",
       "damnthatsinteresting   science\n",
       "coronavirus            science\n",
       "askanamerican          science\n",
       "wtf                    science\n",
       "india                  science\n",
       "aboringdystopia        science\n",
       "childfree              science"
      ]
     },
     "execution_count": 27,
     "metadata": {},
     "output_type": "execute_result"
    }
   ],
   "source": [
    "highest[highest[\"max_topic\"] == \"science\"]"
   ]
  },
  {
   "cell_type": "code",
   "execution_count": 28,
   "id": "38989544",
   "metadata": {
    "scrolled": true
   },
   "outputs": [
    {
     "data": {
      "text/plain": [
       "<matplotlib.legend.Legend at 0x7fc437281fa0>"
      ]
     },
     "execution_count": 28,
     "metadata": {},
     "output_type": "execute_result"
    },
    {
     "data": {
      "image/png": "[encoded data removed]",
      "text/plain": [
       "<Figure size 1500x1000 with 1 Axes>"
      ]
     },
     "metadata": {},
     "output_type": "display_data"
    }
   ],
   "source": [
    "year_sent = pd.DataFrame(main_df.groupby([\"year\"])[\"topic\"].value_counts()).unstack(1)\n",
    "year_sent_norm = round(year_sent.div(year_sent.sum(axis=1), axis=0)*100, 2)[\"count\"]\n",
    "year_sent_norm.reset_index(level = 0).set_index(\"year\",drop = True).plot(figsize = (15, 10), \n",
    "                                                                         title = \"Shifts In Topic Frequency Between 2010 and 2022\", \n",
    "                                                                         xlabel = \"Year\", \n",
    "                                                                         ylabel = \"Percentage\")\n",
    "plt.legend(fontsize = 15)"
   ]
  },
  {
   "cell_type": "code",
   "execution_count": 29,
   "id": "59fd5a20",
   "metadata": {},
   "outputs": [
    {
     "data": {
      "text/html": [
       "<div>\n",
       "<style scoped>\n",
       "    .dataframe tbody tr th:only-of-type {\n",
       "        vertical-align: middle;\n",
       "    }\n",
       "\n",
       "    .dataframe tbody tr th {\n",
       "        vertical-align: top;\n",
       "    }\n",
       "\n",
       "    .dataframe thead th {\n",
       "        text-align: right;\n",
       "    }\n",
       "</style>\n",
       "<table border=\"1\" class=\"dataframe\">\n",
       "  <thead>\n",
       "    <tr style=\"text-align: right;\">\n",
       "      <th></th>\n",
       "      <th>score</th>\n",
       "    </tr>\n",
       "    <tr>\n",
       "      <th>topic</th>\n",
       "      <th></th>\n",
       "    </tr>\n",
       "  </thead>\n",
       "  <tbody>\n",
       "    <tr>\n",
       "      <th>humanity</th>\n",
       "      <td>12.131379</td>\n",
       "    </tr>\n",
       "    <tr>\n",
       "      <th>science</th>\n",
       "      <td>10.154916</td>\n",
       "    </tr>\n",
       "    <tr>\n",
       "      <th>politics</th>\n",
       "      <td>10.079545</td>\n",
       "    </tr>\n",
       "    <tr>\n",
       "      <th>climate</th>\n",
       "      <td>9.146989</td>\n",
       "    </tr>\n",
       "    <tr>\n",
       "      <th>family</th>\n",
       "      <td>9.106578</td>\n",
       "    </tr>\n",
       "    <tr>\n",
       "      <th>energy</th>\n",
       "      <td>8.789929</td>\n",
       "    </tr>\n",
       "    <tr>\n",
       "      <th>information</th>\n",
       "      <td>7.827188</td>\n",
       "    </tr>\n",
       "  </tbody>\n",
       "</table>\n",
       "</div>"
      ],
      "text/plain": [
       "                 score\n",
       "topic                 \n",
       "humanity     12.131379\n",
       "science      10.154916\n",
       "politics     10.079545\n",
       "climate       9.146989\n",
       "family        9.106578\n",
       "energy        8.789929\n",
       "information   7.827188"
      ]
     },
     "execution_count": 29,
     "metadata": {},
     "output_type": "execute_result"
    }
   ],
   "source": [
    "series = main_df.groupby([\"topic\"])[\"score\"].mean().sort_values(ascending = False)\n",
    "pd.DataFrame(series)"
   ]
  },
  {
   "cell_type": "markdown",
   "id": "692da2fe",
   "metadata": {},
   "source": [
    "# Stance Data"
   ]
  },
  {
   "cell_type": "code",
   "execution_count": 30,
   "id": "dd8aa445",
   "metadata": {},
   "outputs": [],
   "source": [
    "common_subreddits = [key for key, value in main_df[\"sub\"].value_counts().head(100).to_dict().items()]"
   ]
  },
  {
   "cell_type": "code",
   "execution_count": 31,
   "id": "56e788ad",
   "metadata": {},
   "outputs": [],
   "source": [
    "sub_sent = main_df[main_df[\"sub\"].isin(common_subreddits)].groupby([\"sub\"])[\"stance\"].value_counts().unstack(1)\n",
    "sub_sent_norm = round(sub_sent.div(sub_sent.sum(axis = 1), axis = 0)*100, 2)\n",
    "sub_sent_norm = sub_sent_norm.reset_index(level = 0)\n",
    "sub_sent_norm[\"sub\"] = sub_sent_norm[\"sub\"].astype(\"category\")\n",
    "sub_sent_norm[\"sub\"] = sub_sent_norm[\"sub\"].cat.set_categories(common_subreddits)\n",
    "stance_df = sub_sent_norm.sort_values([\"sub\"]).set_index(\"sub\", drop = True)"
   ]
  },
  {
   "cell_type": "code",
   "execution_count": 32,
   "id": "544ea6fe",
   "metadata": {},
   "outputs": [
    {
     "data": {
      "text/plain": [
       "41"
      ]
     },
     "execution_count": 32,
     "metadata": {},
     "output_type": "execute_result"
    }
   ],
   "source": [
    "top_100 = stance_df[\"Anti\"].sort_values(ascending = False)\n",
    "(top_100[(top_100 > 6.5) & (top_100 < 9.5)]).count()"
   ]
  },
  {
   "cell_type": "code",
   "execution_count": 33,
   "id": "6900a242",
   "metadata": {},
   "outputs": [
    {
     "data": {
      "text/plain": [
       "(26,\n",
       " sub\n",
       " the_donald               26.85\n",
       " conspiracy               21.69\n",
       " climateskeptics          20.48\n",
       " conservative             19.86\n",
       " anarcho_capitalism       17.75\n",
       " worldpolitics            13.94\n",
       " libertarian              13.10\n",
       " insanepeoplefacebook     12.75\n",
       " documentaries            12.29\n",
       " selfawarewolves          11.94\n",
       " adviceanimals            11.24\n",
       " skeptic                  11.12\n",
       " joerogan                 11.11\n",
       " atheism                  11.09\n",
       " jordanpeterson           10.99\n",
       " funny                    10.93\n",
       " politicalhumor           10.74\n",
       " christianity             10.28\n",
       " wtf                      10.23\n",
       " politicalcompassmemes    10.16\n",
       " nottheonion               9.98\n",
       " australianpolitics        9.95\n",
       " pics                      9.81\n",
       " facepalm                  9.80\n",
       " damnthatsinteresting      9.57\n",
       " murderedbywords           9.56\n",
       " Name: Anti, dtype: float64)"
      ]
     },
     "execution_count": 33,
     "metadata": {},
     "output_type": "execute_result"
    }
   ],
   "source": [
    "(top_100[(top_100 > 9.5)]).count(), (top_100[(top_100 > 9.5)])"
   ]
  },
  {
   "cell_type": "code",
   "execution_count": 34,
   "id": "0702fadf",
   "metadata": {},
   "outputs": [
    {
     "data": {
      "text/plain": [
       "(32,\n",
       " sub\n",
       " truereddit             6.29\n",
       " nostupidquestions      6.19\n",
       " economics              6.15\n",
       " antiwork               5.95\n",
       " explainlikeimfive      5.94\n",
       " iama                   5.93\n",
       " neoliberal             5.87\n",
       " europe                 5.83\n",
       " onguardforthee         5.71\n",
       " coronavirus            5.64\n",
       " politicaldiscussion    5.54\n",
       " ireland                5.49\n",
       " space                  5.48\n",
       " mapporn                5.41\n",
       " collapse               5.26\n",
       " unitedkingdom          5.22\n",
       " askanamerican          5.20\n",
       " ukpolitics             5.16\n",
       " vancouver              5.05\n",
       " moderatepolitics       4.80\n",
       " askaliberal            4.66\n",
       " climate                4.61\n",
       " newzealand             4.36\n",
       " changemyview           4.31\n",
       " canadapolitics         4.19\n",
       " sandersforpresident    3.72\n",
       " energy                 3.72\n",
       " askscience             3.51\n",
       " india                  3.10\n",
       " childfree              2.48\n",
       " vegan                  1.99\n",
       " yangforpresidenthq     1.72\n",
       " Name: Anti, dtype: float64)"
      ]
     },
     "execution_count": 34,
     "metadata": {},
     "output_type": "execute_result"
    }
   ],
   "source": [
    "(top_100[(top_100 < 6.5)]).count(), (top_100[(top_100 < 6.5)])"
   ]
  },
  {
   "cell_type": "code",
   "execution_count": 35,
   "id": "1a6203d7",
   "metadata": {},
   "outputs": [
    {
     "data": {
      "text/plain": [
       "<Axes: title={'center': 'Shifts In Stance Between 2010 and 2022'}, xlabel='Year', ylabel='Percentage'>"
      ]
     },
     "execution_count": 35,
     "metadata": {},
     "output_type": "execute_result"
    },
    {
     "data": {
      "image/png": "[encoded data removed]",
      "text/plain": [
       "<Figure size 1500x1000 with 1 Axes>"
      ]
     },
     "metadata": {},
     "output_type": "display_data"
    }
   ],
   "source": [
    "year_sent = pd.DataFrame(main_df.groupby([\"year\"])[\"stance\"].value_counts()).unstack(1)\n",
    "year_sent_norm = round(year_sent.div(year_sent.sum(axis=1), axis=0)*100, 2)[\"count\"]\n",
    "year_sent_norm.reset_index(level = 0).set_index(\"year\",drop = True).plot(figsize = (15, 10), \n",
    "                                                                         title = \"Shifts In Stance Between 2010 and 2022\", \n",
    "                                                                         xlabel = \"Year\", \n",
    "                                                                         ylabel = \"Percentage\")"
   ]
  },
  {
   "cell_type": "code",
   "execution_count": 36,
   "id": "6474cf3e",
   "metadata": {},
   "outputs": [
    {
     "data": {
      "text/html": [
       "<div>\n",
       "<style scoped>\n",
       "    .dataframe tbody tr th:only-of-type {\n",
       "        vertical-align: middle;\n",
       "    }\n",
       "\n",
       "    .dataframe tbody tr th {\n",
       "        vertical-align: top;\n",
       "    }\n",
       "\n",
       "    .dataframe thead th {\n",
       "        text-align: right;\n",
       "    }\n",
       "</style>\n",
       "<table border=\"1\" class=\"dataframe\">\n",
       "  <thead>\n",
       "    <tr style=\"text-align: right;\">\n",
       "      <th></th>\n",
       "      <th>score</th>\n",
       "    </tr>\n",
       "    <tr>\n",
       "      <th>stance</th>\n",
       "      <th></th>\n",
       "    </tr>\n",
       "  </thead>\n",
       "  <tbody>\n",
       "    <tr>\n",
       "      <th>Pro</th>\n",
       "      <td>9.934229</td>\n",
       "    </tr>\n",
       "    <tr>\n",
       "      <th>Neutral</th>\n",
       "      <td>9.438009</td>\n",
       "    </tr>\n",
       "    <tr>\n",
       "      <th>Anti</th>\n",
       "      <td>7.033890</td>\n",
       "    </tr>\n",
       "  </tbody>\n",
       "</table>\n",
       "</div>"
      ],
      "text/plain": [
       "            score\n",
       "stance           \n",
       "Pro      9.934229\n",
       "Neutral  9.438009\n",
       "Anti     7.033890"
      ]
     },
     "execution_count": 36,
     "metadata": {},
     "output_type": "execute_result"
    }
   ],
   "source": [
    "series = main_df.groupby([\"stance\"])[\"score\"].mean().sort_values(ascending = False)\n",
    "pd.DataFrame(series)"
   ]
  },
  {
   "cell_type": "markdown",
   "id": "7faef791",
   "metadata": {},
   "source": [
    "# Stance Per Topic"
   ]
  },
  {
   "cell_type": "code",
   "execution_count": 37,
   "id": "79341763",
   "metadata": {},
   "outputs": [
    {
     "data": {
      "text/html": [
       "<div>\n",
       "<style scoped>\n",
       "    .dataframe tbody tr th:only-of-type {\n",
       "        vertical-align: middle;\n",
       "    }\n",
       "\n",
       "    .dataframe tbody tr th {\n",
       "        vertical-align: top;\n",
       "    }\n",
       "\n",
       "    .dataframe thead th {\n",
       "        text-align: right;\n",
       "    }\n",
       "</style>\n",
       "<table border=\"1\" class=\"dataframe\">\n",
       "  <thead>\n",
       "    <tr style=\"text-align: right;\">\n",
       "      <th>stance</th>\n",
       "      <th>Anti</th>\n",
       "      <th>Neutral</th>\n",
       "      <th>Pro</th>\n",
       "    </tr>\n",
       "    <tr>\n",
       "      <th>topic</th>\n",
       "      <th></th>\n",
       "      <th></th>\n",
       "      <th></th>\n",
       "    </tr>\n",
       "  </thead>\n",
       "  <tbody>\n",
       "    <tr>\n",
       "      <th>climate</th>\n",
       "      <td>4.85</td>\n",
       "      <td>19.68</td>\n",
       "      <td>75.48</td>\n",
       "    </tr>\n",
       "    <tr>\n",
       "      <th>energy</th>\n",
       "      <td>6.55</td>\n",
       "      <td>29.57</td>\n",
       "      <td>63.88</td>\n",
       "    </tr>\n",
       "    <tr>\n",
       "      <th>family</th>\n",
       "      <td>11.09</td>\n",
       "      <td>27.75</td>\n",
       "      <td>61.16</td>\n",
       "    </tr>\n",
       "    <tr>\n",
       "      <th>humanity</th>\n",
       "      <td>6.34</td>\n",
       "      <td>29.86</td>\n",
       "      <td>63.80</td>\n",
       "    </tr>\n",
       "    <tr>\n",
       "      <th>information</th>\n",
       "      <td>11.68</td>\n",
       "      <td>35.45</td>\n",
       "      <td>52.87</td>\n",
       "    </tr>\n",
       "    <tr>\n",
       "      <th>politics</th>\n",
       "      <td>7.10</td>\n",
       "      <td>38.45</td>\n",
       "      <td>54.45</td>\n",
       "    </tr>\n",
       "    <tr>\n",
       "      <th>science</th>\n",
       "      <td>5.85</td>\n",
       "      <td>41.72</td>\n",
       "      <td>52.43</td>\n",
       "    </tr>\n",
       "  </tbody>\n",
       "</table>\n",
       "</div>"
      ],
      "text/plain": [
       "stance        Anti  Neutral    Pro\n",
       "topic                             \n",
       "climate       4.85    19.68  75.48\n",
       "energy        6.55    29.57  63.88\n",
       "family       11.09    27.75  61.16\n",
       "humanity      6.34    29.86  63.80\n",
       "information  11.68    35.45  52.87\n",
       "politics      7.10    38.45  54.45\n",
       "science       5.85    41.72  52.43"
      ]
     },
     "execution_count": 37,
     "metadata": {},
     "output_type": "execute_result"
    }
   ],
   "source": [
    "sub_sent = main_df.groupby([\"topic\"])[\"stance\"].value_counts().unstack(1)\n",
    "sub_sent_norm = round(sub_sent.div(sub_sent.sum(axis = 1), axis = 0)*100, 2)\n",
    "sub_sent_norm"
   ]
  },
  {
   "cell_type": "markdown",
   "id": "5bc2dbca",
   "metadata": {},
   "source": [
    "# Sentiment Per Stance"
   ]
  },
  {
   "cell_type": "code",
   "execution_count": 38,
   "id": "d033ec46",
   "metadata": {},
   "outputs": [
    {
     "data": {
      "text/html": [
       "<div>\n",
       "<style scoped>\n",
       "    .dataframe tbody tr th:only-of-type {\n",
       "        vertical-align: middle;\n",
       "    }\n",
       "\n",
       "    .dataframe tbody tr th {\n",
       "        vertical-align: top;\n",
       "    }\n",
       "\n",
       "    .dataframe thead th {\n",
       "        text-align: right;\n",
       "    }\n",
       "</style>\n",
       "<table border=\"1\" class=\"dataframe\">\n",
       "  <thead>\n",
       "    <tr style=\"text-align: right;\">\n",
       "      <th>sentiment</th>\n",
       "      <th>negative</th>\n",
       "      <th>neutral</th>\n",
       "      <th>positive</th>\n",
       "    </tr>\n",
       "    <tr>\n",
       "      <th>stance</th>\n",
       "      <th></th>\n",
       "      <th></th>\n",
       "      <th></th>\n",
       "    </tr>\n",
       "  </thead>\n",
       "  <tbody>\n",
       "    <tr>\n",
       "      <th>Anti</th>\n",
       "      <td>56.12</td>\n",
       "      <td>8.76</td>\n",
       "      <td>35.12</td>\n",
       "    </tr>\n",
       "    <tr>\n",
       "      <th>Neutral</th>\n",
       "      <td>37.29</td>\n",
       "      <td>13.99</td>\n",
       "      <td>48.72</td>\n",
       "    </tr>\n",
       "    <tr>\n",
       "      <th>Pro</th>\n",
       "      <td>49.93</td>\n",
       "      <td>6.49</td>\n",
       "      <td>43.59</td>\n",
       "    </tr>\n",
       "  </tbody>\n",
       "</table>\n",
       "</div>"
      ],
      "text/plain": [
       "sentiment  negative  neutral  positive\n",
       "stance                                \n",
       "Anti          56.12     8.76     35.12\n",
       "Neutral       37.29    13.99     48.72\n",
       "Pro           49.93     6.49     43.59"
      ]
     },
     "execution_count": 38,
     "metadata": {},
     "output_type": "execute_result"
    }
   ],
   "source": [
    "sub_sent = main_df.groupby([\"stance\"])[\"sentiment\"].value_counts().unstack(1)\n",
    "sub_sent_norm = round(sub_sent.div(sub_sent.sum(axis = 1), axis = 0)*100, 2)\n",
    "sub_sent_norm"
   ]
  },
  {
   "cell_type": "markdown",
   "id": "aa4a13d8",
   "metadata": {},
   "source": [
    "# Sentiment Per Topic"
   ]
  },
  {
   "cell_type": "code",
   "execution_count": 39,
   "id": "fc54452e",
   "metadata": {},
   "outputs": [
    {
     "data": {
      "text/html": [
       "<div>\n",
       "<style scoped>\n",
       "    .dataframe tbody tr th:only-of-type {\n",
       "        vertical-align: middle;\n",
       "    }\n",
       "\n",
       "    .dataframe tbody tr th {\n",
       "        vertical-align: top;\n",
       "    }\n",
       "\n",
       "    .dataframe thead th {\n",
       "        text-align: right;\n",
       "    }\n",
       "</style>\n",
       "<table border=\"1\" class=\"dataframe\">\n",
       "  <thead>\n",
       "    <tr style=\"text-align: right;\">\n",
       "      <th>sentiment</th>\n",
       "      <th>negative</th>\n",
       "      <th>neutral</th>\n",
       "      <th>positive</th>\n",
       "    </tr>\n",
       "    <tr>\n",
       "      <th>topic</th>\n",
       "      <th></th>\n",
       "      <th></th>\n",
       "      <th></th>\n",
       "    </tr>\n",
       "  </thead>\n",
       "  <tbody>\n",
       "    <tr>\n",
       "      <th>climate</th>\n",
       "      <td>55.07</td>\n",
       "      <td>10.53</td>\n",
       "      <td>34.40</td>\n",
       "    </tr>\n",
       "    <tr>\n",
       "      <th>energy</th>\n",
       "      <td>45.56</td>\n",
       "      <td>4.93</td>\n",
       "      <td>49.51</td>\n",
       "    </tr>\n",
       "    <tr>\n",
       "      <th>family</th>\n",
       "      <td>49.93</td>\n",
       "      <td>8.25</td>\n",
       "      <td>41.82</td>\n",
       "    </tr>\n",
       "    <tr>\n",
       "      <th>humanity</th>\n",
       "      <td>44.86</td>\n",
       "      <td>9.52</td>\n",
       "      <td>45.62</td>\n",
       "    </tr>\n",
       "    <tr>\n",
       "      <th>information</th>\n",
       "      <td>38.61</td>\n",
       "      <td>18.49</td>\n",
       "      <td>42.90</td>\n",
       "    </tr>\n",
       "    <tr>\n",
       "      <th>politics</th>\n",
       "      <td>44.92</td>\n",
       "      <td>9.33</td>\n",
       "      <td>45.75</td>\n",
       "    </tr>\n",
       "    <tr>\n",
       "      <th>science</th>\n",
       "      <td>43.06</td>\n",
       "      <td>10.33</td>\n",
       "      <td>46.61</td>\n",
       "    </tr>\n",
       "  </tbody>\n",
       "</table>\n",
       "</div>"
      ],
      "text/plain": [
       "sentiment    negative  neutral  positive\n",
       "topic                                   \n",
       "climate         55.07    10.53     34.40\n",
       "energy          45.56     4.93     49.51\n",
       "family          49.93     8.25     41.82\n",
       "humanity        44.86     9.52     45.62\n",
       "information     38.61    18.49     42.90\n",
       "politics        44.92     9.33     45.75\n",
       "science         43.06    10.33     46.61"
      ]
     },
     "execution_count": 39,
     "metadata": {},
     "output_type": "execute_result"
    }
   ],
   "source": [
    "sub_sent = main_df.groupby([\"topic\"])[\"sentiment\"].value_counts().unstack(1)\n",
    "sub_sent_norm = round(sub_sent.div(sub_sent.sum(axis = 1), axis = 0)*100, 2)\n",
    "sub_sent_norm"
   ]
  },
  {
   "cell_type": "markdown",
   "id": "9a2ac166",
   "metadata": {},
   "source": [
    "# Score Per Sentiment "
   ]
  },
  {
   "cell_type": "code",
   "execution_count": 40,
   "id": "645647f6",
   "metadata": {},
   "outputs": [
    {
     "name": "stdout",
     "output_type": "stream",
     "text": [
      "9.193712329394746\n",
      "8.96924222258395\n",
      "10.011321829453742\n"
     ]
    }
   ],
   "source": [
    "print(main_df[main_df[\"sentiment\"] == \"positive\"][\"score\"].mean())\n",
    "print(main_df[main_df[\"sentiment\"] == \"neutral\"][\"score\"].mean())\n",
    "print(main_df[main_df[\"sentiment\"] == \"negative\"][\"score\"].mean())"
   ]
  }
 ],
 "metadata": {
  "kernelspec": {
   "display_name": "Python 3 (ipykernel)",
   "language": "python",
   "name": "python3"
  },
  "language_info": {
   "codemirror_mode": {
    "name": "ipython",
    "version": 3
   },
   "file_extension": ".py",
   "mimetype": "text/x-python",
   "name": "python",
   "nbconvert_exporter": "python",
   "pygments_lexer": "ipython3",
   "version": "3.9.16"
  }
 },
 "nbformat": 4,
 "nbformat_minor": 5
}
